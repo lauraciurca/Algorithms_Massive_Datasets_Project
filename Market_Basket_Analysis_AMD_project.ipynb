{
  "nbformat": 4,
  "nbformat_minor": 0,
  "metadata": {
    "colab": {
      "name": "Market_Basket_Analysis_AMD_project.ipynb",
      "provenance": [],
      "collapsed_sections": [],
      "include_colab_link": true
    },
    "kernelspec": {
      "display_name": "Python 3",
      "name": "python3"
    },
    "language_info": {
      "name": "python"
    }
  },
  "cells": [
    {
      "cell_type": "markdown",
      "metadata": {
        "id": "view-in-github",
        "colab_type": "text"
      },
      "source": [
        "<a href=\"https://colab.research.google.com/github/lauraciurca/Algorithms_Massive_Datasets_Project/blob/main/Market_Basket_Analysis_AMD_project.ipynb\" target=\"_parent\"><img src=\"https://colab.research.google.com/assets/colab-badge.svg\" alt=\"Open In Colab\"/></a>"
      ]
    },
    {
      "cell_type": "markdown",
      "metadata": {
        "id": "JtNORHrHT_S4"
      },
      "source": [
        "**ALGORITHM FOR MASSIVE DATASETS: MARKET BASKET ANALYSIS** \n",
        "\n",
        "---\n",
        "\n",
        "\n",
        "#####Laura Ciurca\n",
        "#####Camilla Gotta\n",
        "#####2020/2021 "
      ]
    },
    {
      "cell_type": "markdown",
      "metadata": {
        "id": "SV0w2mA8HzIX"
      },
      "source": [
        "**SPARK SETUP**\n",
        "\n",
        "---\n",
        "\n"
      ]
    },
    {
      "cell_type": "code",
      "metadata": {
        "colab": {
          "base_uri": "https://localhost:8080/"
        },
        "id": "xN8HN0-oCoEm",
        "outputId": "43d4be5c-6e5e-4ca6-bf65-e0ca93a25a81"
      },
      "source": [
        "#install Java8\n",
        "!apt-get install openjdk-8-jdk-headless -qq > /dev/null  \n",
        "#download spark3.0.2\n",
        "#!apt-get update\n",
        "!wget -c http://apache.osuosl.org/spark/spark-3.0.2/spark-3.0.2-bin-hadoop2.7.tgz\n",
        "#unzip it\n",
        "!tar xf spark-3.0.2-bin-hadoop2.7.tgz \n",
        "#install findspark\n",
        "!pip install -q findspark  "
      ],
      "execution_count": null,
      "outputs": [
        {
          "output_type": "stream",
          "text": [
            "--2021-05-07 14:46:10--  http://apache.osuosl.org/spark/spark-3.0.2/spark-3.0.2-bin-hadoop2.7.tgz\n",
            "Resolving apache.osuosl.org (apache.osuosl.org)... 64.50.236.52, 64.50.233.100, 140.211.166.134, ...\n",
            "Connecting to apache.osuosl.org (apache.osuosl.org)|64.50.236.52|:80... connected.\n",
            "HTTP request sent, awaiting response... 416 Requested Range Not Satisfiable\n",
            "\n",
            "    The file is already fully retrieved; nothing to do.\n",
            "\n"
          ],
          "name": "stdout"
        }
      ]
    },
    {
      "cell_type": "code",
      "metadata": {
        "colab": {
          "base_uri": "https://localhost:8080/"
        },
        "id": "NvVFSOS67lQH",
        "outputId": "9eab9ac1-98a9-460b-9d31-12fc252ddb19"
      },
      "source": [
        "!cat /proc/cpuinfo"
      ],
      "execution_count": null,
      "outputs": [
        {
          "output_type": "stream",
          "text": [
            "processor\t: 0\n",
            "vendor_id\t: GenuineIntel\n",
            "cpu family\t: 6\n",
            "model\t\t: 79\n",
            "model name\t: Intel(R) Xeon(R) CPU @ 2.20GHz\n",
            "stepping\t: 0\n",
            "microcode\t: 0x1\n",
            "cpu MHz\t\t: 2199.998\n",
            "cache size\t: 56320 KB\n",
            "physical id\t: 0\n",
            "siblings\t: 2\n",
            "core id\t\t: 0\n",
            "cpu cores\t: 1\n",
            "apicid\t\t: 0\n",
            "initial apicid\t: 0\n",
            "fpu\t\t: yes\n",
            "fpu_exception\t: yes\n",
            "cpuid level\t: 13\n",
            "wp\t\t: yes\n",
            "flags\t\t: fpu vme de pse tsc msr pae mce cx8 apic sep mtrr pge mca cmov pat pse36 clflush mmx fxsr sse sse2 ss ht syscall nx pdpe1gb rdtscp lm constant_tsc rep_good nopl xtopology nonstop_tsc cpuid tsc_known_freq pni pclmulqdq ssse3 fma cx16 pcid sse4_1 sse4_2 x2apic movbe popcnt aes xsave avx f16c rdrand hypervisor lahf_lm abm 3dnowprefetch invpcid_single ssbd ibrs ibpb stibp fsgsbase tsc_adjust bmi1 hle avx2 smep bmi2 erms invpcid rtm rdseed adx smap xsaveopt arat md_clear arch_capabilities\n",
            "bugs\t\t: cpu_meltdown spectre_v1 spectre_v2 spec_store_bypass l1tf mds swapgs taa\n",
            "bogomips\t: 4399.99\n",
            "clflush size\t: 64\n",
            "cache_alignment\t: 64\n",
            "address sizes\t: 46 bits physical, 48 bits virtual\n",
            "power management:\n",
            "\n",
            "processor\t: 1\n",
            "vendor_id\t: GenuineIntel\n",
            "cpu family\t: 6\n",
            "model\t\t: 79\n",
            "model name\t: Intel(R) Xeon(R) CPU @ 2.20GHz\n",
            "stepping\t: 0\n",
            "microcode\t: 0x1\n",
            "cpu MHz\t\t: 2199.998\n",
            "cache size\t: 56320 KB\n",
            "physical id\t: 0\n",
            "siblings\t: 2\n",
            "core id\t\t: 0\n",
            "cpu cores\t: 1\n",
            "apicid\t\t: 1\n",
            "initial apicid\t: 1\n",
            "fpu\t\t: yes\n",
            "fpu_exception\t: yes\n",
            "cpuid level\t: 13\n",
            "wp\t\t: yes\n",
            "flags\t\t: fpu vme de pse tsc msr pae mce cx8 apic sep mtrr pge mca cmov pat pse36 clflush mmx fxsr sse sse2 ss ht syscall nx pdpe1gb rdtscp lm constant_tsc rep_good nopl xtopology nonstop_tsc cpuid tsc_known_freq pni pclmulqdq ssse3 fma cx16 pcid sse4_1 sse4_2 x2apic movbe popcnt aes xsave avx f16c rdrand hypervisor lahf_lm abm 3dnowprefetch invpcid_single ssbd ibrs ibpb stibp fsgsbase tsc_adjust bmi1 hle avx2 smep bmi2 erms invpcid rtm rdseed adx smap xsaveopt arat md_clear arch_capabilities\n",
            "bugs\t\t: cpu_meltdown spectre_v1 spectre_v2 spec_store_bypass l1tf mds swapgs taa\n",
            "bogomips\t: 4399.99\n",
            "clflush size\t: 64\n",
            "cache_alignment\t: 64\n",
            "address sizes\t: 46 bits physical, 48 bits virtual\n",
            "power management:\n",
            "\n"
          ],
          "name": "stdout"
        }
      ]
    },
    {
      "cell_type": "code",
      "metadata": {
        "id": "hnH088ctCrJP"
      },
      "source": [
        "import os\n",
        "os.environ[\"JAVA_HOME\"] = \"/usr/lib/jvm/java-8-openjdk-amd64\"\n",
        "os.environ[\"SPARK_HOME\"] = \"/content/spark-3.0.2-bin-hadoop2.7\""
      ],
      "execution_count": null,
      "outputs": []
    },
    {
      "cell_type": "code",
      "metadata": {
        "id": "xGoArE5PCsu-"
      },
      "source": [
        "import findspark\n",
        "findspark.init(\"spark-3.0.2-bin-hadoop2.7\")  #SPARK_HOME\n",
        "from pyspark.sql import SparkSession\n",
        "spark = SparkSession.builder.master(\"local[*]\").getOrCreate()"
      ],
      "execution_count": null,
      "outputs": []
    },
    {
      "cell_type": "code",
      "metadata": {
        "id": "lYaeSmEBCwYW"
      },
      "source": [
        "import pyspark\n",
        "sc = spark.sparkContext "
      ],
      "execution_count": null,
      "outputs": []
    },
    {
      "cell_type": "markdown",
      "metadata": {
        "id": "2FLqmnzNIBEA"
      },
      "source": [
        "**KAGGLE SETUP**\n",
        "\n",
        "---\n",
        "\n"
      ]
    },
    {
      "cell_type": "code",
      "metadata": {
        "id": "_Jv9kUD8Czn-",
        "colab": {
          "base_uri": "https://localhost:8080/"
        },
        "outputId": "eaa4a30b-186a-4994-ad34-fe1792c3fd05"
      },
      "source": [
        "!pip install kaggle"
      ],
      "execution_count": null,
      "outputs": [
        {
          "output_type": "stream",
          "text": [
            "Requirement already satisfied: kaggle in /usr/local/lib/python3.7/dist-packages (1.5.12)\n",
            "Requirement already satisfied: urllib3 in /usr/local/lib/python3.7/dist-packages (from kaggle) (1.24.3)\n",
            "Requirement already satisfied: requests in /usr/local/lib/python3.7/dist-packages (from kaggle) (2.23.0)\n",
            "Requirement already satisfied: tqdm in /usr/local/lib/python3.7/dist-packages (from kaggle) (4.41.1)\n",
            "Requirement already satisfied: python-dateutil in /usr/local/lib/python3.7/dist-packages (from kaggle) (2.8.1)\n",
            "Requirement already satisfied: certifi in /usr/local/lib/python3.7/dist-packages (from kaggle) (2020.12.5)\n",
            "Requirement already satisfied: six>=1.10 in /usr/local/lib/python3.7/dist-packages (from kaggle) (1.15.0)\n",
            "Requirement already satisfied: python-slugify in /usr/local/lib/python3.7/dist-packages (from kaggle) (4.0.1)\n",
            "Requirement already satisfied: idna<3,>=2.5 in /usr/local/lib/python3.7/dist-packages (from requests->kaggle) (2.10)\n",
            "Requirement already satisfied: chardet<4,>=3.0.2 in /usr/local/lib/python3.7/dist-packages (from requests->kaggle) (3.0.4)\n",
            "Requirement already satisfied: text-unidecode>=1.3 in /usr/local/lib/python3.7/dist-packages (from python-slugify->kaggle) (1.3)\n"
          ],
          "name": "stdout"
        }
      ]
    },
    {
      "cell_type": "markdown",
      "metadata": {
        "id": "jOvuSDcBIGyT"
      },
      "source": [
        "Import the dataset through the Kaggle API"
      ]
    },
    {
      "cell_type": "code",
      "metadata": {
        "id": "SMcFOmy0C1Uh",
        "colab": {
          "resources": {
            "http://localhost:8080/nbextensions/google.colab/files.js": {
              "data": "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",
              "ok": true,
              "headers": [
                [
                  "content-type",
                  "application/javascript"
                ]
              ],
              "status": 200,
              "status_text": ""
            }
          },
          "base_uri": "https://localhost:8080/",
          "height": 89
        },
        "outputId": "20d8de70-f761-42d3-860f-b9d7a1479026"
      },
      "source": [
        "#upload kaggle.json, the file containing the API, to Colab runtime\n",
        "from google.colab import files\n",
        "files.upload() "
      ],
      "execution_count": null,
      "outputs": [
        {
          "output_type": "display_data",
          "data": {
            "text/html": [
              "\n",
              "     <input type=\"file\" id=\"files-24ecafc0-636b-463e-9567-f5160135cfe7\" name=\"files[]\" multiple disabled\n",
              "        style=\"border:none\" />\n",
              "     <output id=\"result-24ecafc0-636b-463e-9567-f5160135cfe7\">\n",
              "      Upload widget is only available when the cell has been executed in the\n",
              "      current browser session. Please rerun this cell to enable.\n",
              "      </output>\n",
              "      <script src=\"/nbextensions/google.colab/files.js\"></script> "
            ],
            "text/plain": [
              "<IPython.core.display.HTML object>"
            ]
          },
          "metadata": {
            "tags": []
          }
        },
        {
          "output_type": "stream",
          "text": [
            "Saving kaggle.json to kaggle.json\n"
          ],
          "name": "stdout"
        },
        {
          "output_type": "execute_result",
          "data": {
            "text/plain": [
              "{'kaggle.json': b'{\"username\":\"camilla97\",\"key\":\"c318458ba561de6436dd16b7fc0afeb4\"}'}"
            ]
          },
          "metadata": {
            "tags": []
          },
          "execution_count": 8
        }
      ]
    },
    {
      "cell_type": "code",
      "metadata": {
        "id": "5J5yEztMC4rJ"
      },
      "source": [
        "#move kaggle.json into the folder where the API expects to find it\n",
        "!mkdir -p ~/.kaggle \n",
        "!mv kaggle.json ~/.kaggle/"
      ],
      "execution_count": null,
      "outputs": []
    },
    {
      "cell_type": "code",
      "metadata": {
        "id": "MaD7WhY8C6hH"
      },
      "source": [
        "!chmod 600 /root/.kaggle/kaggle.json"
      ],
      "execution_count": null,
      "outputs": []
    },
    {
      "cell_type": "code",
      "metadata": {
        "id": "OjyYWg_3C-sH",
        "colab": {
          "base_uri": "https://localhost:8080/"
        },
        "outputId": "a8ed3f43-ceae-4625-86cd-7ba8a23573b1"
      },
      "source": [
        "!kaggle datasets download -d ashirwadsangwan/imdb-dataset"
      ],
      "execution_count": null,
      "outputs": [
        {
          "output_type": "stream",
          "text": [
            "Downloading imdb-dataset.zip to /content\n",
            "100% 1.44G/1.44G [00:18<00:00, 41.2MB/s]\n",
            "100% 1.44G/1.44G [00:18<00:00, 82.7MB/s]\n"
          ],
          "name": "stdout"
        }
      ]
    },
    {
      "cell_type": "markdown",
      "metadata": {
        "id": "mhzBCBbJISRp"
      },
      "source": [
        "Unzip the dataset"
      ]
    },
    {
      "cell_type": "code",
      "metadata": {
        "id": "eeMRPKcYDA23",
        "colab": {
          "base_uri": "https://localhost:8080/"
        },
        "outputId": "1d634de4-0b14-44ce-c585-e4177cb1d0ac"
      },
      "source": [
        "!unzip imdb-dataset.zip  "
      ],
      "execution_count": null,
      "outputs": [
        {
          "output_type": "stream",
          "text": [
            "Archive:  imdb-dataset.zip\n",
            "  inflating: name.basics.tsv.gz      \n",
            "  inflating: name.basics.tsv/name.basics.tsv  \n",
            "  inflating: title.akas.tsv.gz       \n",
            "  inflating: title.akas.tsv/title.akas.tsv  \n",
            "  inflating: title.basics.tsv.gz     \n",
            "  inflating: title.basics.tsv/title.basics.tsv  \n",
            "  inflating: title.principals.tsv.gz  \n",
            "  inflating: title.principals.tsv/title.principals.tsv  \n",
            "  inflating: title.ratings.tsv.gz    \n",
            "  inflating: title.ratings.tsv/title.ratings.tsv  \n"
          ],
          "name": "stdout"
        }
      ]
    },
    {
      "cell_type": "markdown",
      "metadata": {
        "id": "7kcJ6B7FIVqx"
      },
      "source": [
        "Read the dataset on spark"
      ]
    },
    {
      "cell_type": "code",
      "metadata": {
        "id": "vXNwyb3zDPdu"
      },
      "source": [
        "df = spark.read.csv(\"/content/title.basics.tsv/title.basics.tsv\", sep=r'\\t', header=True)\n",
        "df1 = spark.read.csv(\"/content/title.principals.tsv/title.principals.tsv\", sep=r'\\t', header=True)\n",
        "df2 = spark.read.csv(\"/content/name.basics.tsv/name.basics.tsv\", sep=r'\\t', header=True)"
      ],
      "execution_count": null,
      "outputs": []
    },
    {
      "cell_type": "markdown",
      "metadata": {
        "id": "5_C4Cus0NkxR"
      },
      "source": [
        "**DATA PREPROCESSING**\n",
        "\n",
        "---\n",
        "\n"
      ]
    },
    {
      "cell_type": "markdown",
      "metadata": {
        "id": "tGyxfKNHIcf2"
      },
      "source": [
        "Retrieve only actors and actress as primary profession"
      ]
    },
    {
      "cell_type": "code",
      "metadata": {
        "id": "pPVODjbDDRbu"
      },
      "source": [
        "#filtering actor dataset according just for Primary names that have actor or actress roles\n",
        "df2 = df2.filter((df2.primaryProfession == 'actor')|(df2.primaryProfession == 'actress'))"
      ],
      "execution_count": null,
      "outputs": []
    },
    {
      "cell_type": "markdown",
      "metadata": {
        "id": "jsdtkMYyImD8"
      },
      "source": [
        "Select film under category \"movie\""
      ]
    },
    {
      "cell_type": "code",
      "metadata": {
        "id": "b-j8mdRvhVbs"
      },
      "source": [
        "#dataset taking just movies\n",
        "df = df.filter(df.titleType == 'movie')"
      ],
      "execution_count": null,
      "outputs": []
    },
    {
      "cell_type": "code",
      "metadata": {
        "id": "EnbW9a_FDW0_"
      },
      "source": [
        "df.createOrReplaceTempView(\"df\")\n",
        "df1.createOrReplaceTempView(\"df1\")\n",
        "df2.createOrReplaceTempView(\"df2\")"
      ],
      "execution_count": null,
      "outputs": []
    },
    {
      "cell_type": "code",
      "metadata": {
        "id": "-Z68KjjpDYgv"
      },
      "source": [
        "df = df.select(['tconst', 'primaryTitle'])\n",
        "df1 = df1.select(['tconst', 'nconst'])\n",
        "df2 = df2.select(['primaryName', 'nconst'])"
      ],
      "execution_count": null,
      "outputs": []
    },
    {
      "cell_type": "markdown",
      "metadata": {
        "id": "Wwl8to0yI3oy"
      },
      "source": [
        " Dataset needed for analysis derived from an inner join on three main datasets"
      ]
    },
    {
      "cell_type": "code",
      "metadata": {
        "id": "LA5SGz8UggGP"
      },
      "source": [
        "#inner join of the datasets\n",
        "dataset = spark.sql(\"\"\"SELECT DISTINCT df2.primaryName, df.primaryTitle, df1.tconst, df1.nconst\n",
        "                       FROM df\n",
        "                       INNER JOIN df1 ON df.tconst = df1.tconst\n",
        "                       INNER JOIN df2 ON df1.nconst = df2.nconst\n",
        "                       LIMIT 70000\"\"\")    "
      ],
      "execution_count": null,
      "outputs": []
    },
    {
      "cell_type": "code",
      "metadata": {
        "id": "nhardWB8kGlS"
      },
      "source": [
        "#libraries needed \n",
        "from pyspark.sql.functions import collect_set\n",
        "from pyspark.sql.functions import size, col\n",
        "from pyspark.sql import functions as F \n",
        "from collections import defaultdict\n",
        "import itertools\n",
        "import pandas as pd\n",
        "import time\n",
        "import matplotlib.pyplot as plt"
      ],
      "execution_count": null,
      "outputs": []
    },
    {
      "cell_type": "code",
      "metadata": {
        "id": "6K2AdEcqo6XO"
      },
      "source": [
        "#create baskets\n",
        "basketdata = dataset.groupBy('tconst').agg(collect_set('nconst').alias('nconst'))\n",
        "basketdata.createOrReplaceTempView('basketdata')\n",
        "#basketdata.toPandas().head(5)\n",
        "#basketdata.count()"
      ],
      "execution_count": null,
      "outputs": []
    },
    {
      "cell_type": "code",
      "metadata": {
        "id": "LG4LbGhKqYOH"
      },
      "source": [
        "#check number of actors for each movie\n",
        "basketdata=basketdata.select('*',size('nconst').alias('actors'))"
      ],
      "execution_count": null,
      "outputs": []
    },
    {
      "cell_type": "markdown",
      "metadata": {
        "id": "a8x9iu_aJG6M"
      },
      "source": [
        "Creation of the RDD of the transactions"
      ]
    },
    {
      "cell_type": "code",
      "metadata": {
        "id": "3niCovYsQI81"
      },
      "source": [
        "#create rdd\n",
        "transactions=basketdata.select('nconst').rdd.flatMap(lambda x: x)\n",
        "lines = transactions.map(lambda line: ','.join(str(d) for d in line))\n",
        "lines.saveAsTextFile('baskets.txt')\n",
        "bask = sc.textFile('baskets.txt').map(lambda x: [str(y) for y in x.strip().split(',')])"
      ],
      "execution_count": null,
      "outputs": []
    },
    {
      "cell_type": "markdown",
      "metadata": {
        "id": "AEIe8r0yt_69"
      },
      "source": [
        "**APRIORI ALGORITHM**\n",
        "\n",
        "---\n",
        "\n"
      ]
    },
    {
      "cell_type": "code",
      "metadata": {
        "id": "9vx-amH3Ges1"
      },
      "source": [
        "#define support    \n",
        "count= basketdata.count()        \n",
        "supports= 0.0003*count     \n",
        "numPartitions = bask.getNumPartitions()"
      ],
      "execution_count": null,
      "outputs": []
    },
    {
      "cell_type": "code",
      "metadata": {
        "id": "lBT48RwzB_q8"
      },
      "source": [
        "#determine candidates\n",
        "def get_candidates(frequent_items,k):  \n",
        "    elements=set() \n",
        "    if(k>1):\n",
        "        for itemsets in frequent_items: \n",
        "            for item in itemsets: \n",
        "                elements.add(item) \n",
        "  \n",
        "    candidate_sets=[set(itemsets) for itemsets in list(itertools.combinations(elements, k))] \n",
        "    \n",
        "    return candidate_sets"
      ],
      "execution_count": null,
      "outputs": []
    },
    {
      "cell_type": "code",
      "metadata": {
        "id": "S9FuYXA7p97Y"
      },
      "source": [
        "def candidates_basket(iterator,candidates):\n",
        "  return iterator.flatMap(lambda x: [(tuple(c), 1) for c in candidates if c.issubset(set(x))]).reduceByKey(lambda a,b: a+b).filter(lambda c: c[1] >= supports).collect()"
      ],
      "execution_count": null,
      "outputs": []
    },
    {
      "cell_type": "code",
      "metadata": {
        "id": "B0V8fhDv0JX-"
      },
      "source": [
        "#determine frequent itemsets\n",
        "def get_frequent_itemset(iterator):\n",
        "    baskets = iterator.collect()\n",
        "    support_part = supports         \n",
        "    k = 2\n",
        "    d = {}\n",
        "    frequent_items = []\n",
        "    frequent_itemset = []\n",
        "\n",
        "    for b in baskets:\n",
        "        for i in b:\n",
        "            if i not in d:\n",
        "                d[i] = 1\n",
        "            else:\n",
        "                d[i] = d[i] + 1\n",
        "    \n",
        "    for i in d:\n",
        "        if d[i] >= support_part:\n",
        "            frequent_items.append(i)\n",
        "\n",
        "    frequent_itemset = [(i,1) for i in frequent_items]\n",
        "\n",
        "    return(frequent_itemset) "
      ],
      "execution_count": null,
      "outputs": []
    },
    {
      "cell_type": "code",
      "metadata": {
        "id": "a9eqkrwwXSUp"
      },
      "source": [
        "#define apriori\n",
        "def apriori(iterator): \n",
        "  \n",
        "  iterator.cache()\n",
        "  freq_itemsets = get_frequent_itemset(iterator)\n",
        "  freq_items = [{i[0]} for i in freq_itemsets]\n",
        "  k=2\n",
        "  candidates = get_candidates(freq_items,k)\n",
        "\n",
        "  while len(candidates) != 0:\n",
        "    freq_itemsets_2 = candidates_basket(iterator,candidates)\n",
        "    freq_itemsets += freq_itemsets_2\n",
        "    freq_items2 = list(map(lambda x: {x[0]}, freq_itemsets_2))\n",
        "\n",
        "    # new candidates\n",
        "    candidates = get_candidates(freq_items2, k)\n",
        "    \n",
        "    k += 1\n",
        "\n",
        "  iterator.unpersist()\n",
        "\n",
        "  return freq_itemsets"
      ],
      "execution_count": null,
      "outputs": []
    },
    {
      "cell_type": "code",
      "metadata": {
        "id": "WNYLGSpBYD9H",
        "colab": {
          "base_uri": "https://localhost:8080/"
        },
        "outputId": "8185a568-1c48-4154-c76d-e10fe3a65c1f"
      },
      "source": [
        "#run apriori\n",
        "start_time = time.time()\n",
        "apriori(bask)\n",
        "print(time.time() - start_time)"
      ],
      "execution_count": null,
      "outputs": [
        {
          "output_type": "stream",
          "text": [
            "1719.518134355545\n"
          ],
          "name": "stdout"
        }
      ]
    },
    {
      "cell_type": "markdown",
      "metadata": {
        "id": "vDsnfGdPQAo2"
      },
      "source": [
        "**FP-GROWTH ALGORITHM**\n",
        "\n",
        "---\n",
        "\n"
      ]
    },
    {
      "cell_type": "code",
      "metadata": {
        "id": "Z5vlHqgibDAa",
        "colab": {
          "base_uri": "https://localhost:8080/"
        },
        "outputId": "73f29d6a-d445-493a-b140-7830ab362465"
      },
      "source": [
        "#implement FpGrowth\n",
        "from pyspark.ml.fpm import FPGrowth\n",
        "start_time = time.time()\n",
        "fpGrowth = FPGrowth(itemsCol=\"nconst\", minSupport=0.00003)\n",
        "start_time = time.time()\n",
        "model = fpGrowth.fit(basketdata)\n",
        "print(time.time() - start_time)"
      ],
      "execution_count": null,
      "outputs": [
        {
          "output_type": "stream",
          "text": [
            "104.07793688774109\n"
          ],
          "name": "stdout"
        }
      ]
    },
    {
      "cell_type": "code",
      "metadata": {
        "id": "dPY0REk0bNeK",
        "colab": {
          "base_uri": "https://localhost:8080/"
        },
        "outputId": "836deb48-f6bb-41b0-bd77-eae433d2132d"
      },
      "source": [
        "#Display frequentItems\n",
        "model.freqItemsets.show()"
      ],
      "execution_count": null,
      "outputs": [
        {
          "output_type": "stream",
          "text": [
            "+------------+----+\n",
            "|       items|freq|\n",
            "+------------+----+\n",
            "| [nm1584345]|   2|\n",
            "| [nm0174856]|   2|\n",
            "| [nm1052564]|   3|\n",
            "| [nm0679216]|   2|\n",
            "| [nm0841021]|   3|\n",
            "| [nm2166823]|   4|\n",
            "| [nm2831110]|   2|\n",
            "|[nm10495249]|   2|\n",
            "| [nm5963347]|   3|\n",
            "| [nm6749562]|   2|\n",
            "| [nm1644203]|   4|\n",
            "| [nm3234559]|   2|\n",
            "| [nm4833453]|   2|\n",
            "| [nm0294165]|   4|\n",
            "| [nm5792427]|   3|\n",
            "| [nm2155221]|   2|\n",
            "| [nm5194283]|   2|\n",
            "| [nm0814679]|   5|\n",
            "| [nm8783219]|   2|\n",
            "| [nm2055054]|   2|\n",
            "+------------+----+\n",
            "only showing top 20 rows\n",
            "\n"
          ],
          "name": "stdout"
        }
      ]
    },
    {
      "cell_type": "code",
      "metadata": {
        "id": "wyBW4DWSbP6J"
      },
      "source": [
        "f= model.freqItemsets\n",
        "f.createOrReplaceTempView(\"f\")"
      ],
      "execution_count": null,
      "outputs": []
    },
    {
      "cell_type": "code",
      "metadata": {
        "id": "S-IaOqYubSwJ",
        "colab": {
          "base_uri": "https://localhost:8080/"
        },
        "outputId": "7f2952b0-5138-4ec2-b7bd-4dfcb4e0b067"
      },
      "source": [
        "query = \"\"\"select items, freq\n",
        "           from f\n",
        "           where size(items) > 2\n",
        "           order by freq desc\n",
        "           \"\"\"\n",
        "spark.sql(query).show()"
      ],
      "execution_count": null,
      "outputs": [
        {
          "output_type": "stream",
          "text": [
            "+--------------------+----+\n",
            "|               items|freq|\n",
            "+--------------------+----+\n",
            "|[nm5598823, nm559...|   7|\n",
            "|[nm0231108, nm030...|   3|\n",
            "|[nm0950884, nm753...|   3|\n",
            "|[nm2198250, nm910...|   2|\n",
            "|[nm0231108, nm087...|   2|\n",
            "|[nm0019966, nm023...|   2|\n",
            "|[nm7205580, nm462...|   2|\n",
            "|[nm0207578, nm030...|   2|\n",
            "|[nm0122310, nm014...|   2|\n",
            "|[nm3135393, nm300...|   2|\n",
            "|[nm0759664, nm023...|   2|\n",
            "|[nm2884773, nm286...|   2|\n",
            "|[nm0140578, nm008...|   2|\n",
            "|[nm0422380, nm273...|   2|\n",
            "+--------------------+----+\n",
            "\n"
          ],
          "name": "stdout"
        }
      ]
    },
    {
      "cell_type": "markdown",
      "metadata": {
        "id": "_WvKBgx_QSqI"
      },
      "source": [
        "**DATA VISUALIZATION**\n",
        "\n",
        "---\n",
        "\n"
      ]
    },
    {
      "cell_type": "markdown",
      "metadata": {
        "id": "APLauQ_bJPbR"
      },
      "source": [
        "Plot the time needed for Apriori algorithm with different sample size of dataset"
      ]
    },
    {
      "cell_type": "code",
      "metadata": {
        "id": "GcVlC0ESKzJx",
        "colab": {
          "base_uri": "https://localhost:8080/",
          "height": 295
        },
        "outputId": "08b04e9f-fd7c-4555-b562-e613d2c7a9b5"
      },
      "source": [
        "#get graph for time (seconds) running apriori\n",
        "w = {'size_dataset': [5000, 25000, 50000, 70000],\n",
        "     'time_seconds': [63.071523904800415,272.9228575229645,695.7591323852539, 1719.518134355545]}\n",
        "results = pd.DataFrame(w)\n",
        "%matplotlib inline\n",
        "x = results['size_dataset']\n",
        "y = results['time_seconds']\n",
        "plt.plot(x, y, label=\"Apriori Algorithm\")\n",
        "\n",
        "plt.xlabel(\"Dataset size\")\n",
        "plt.ylabel(\"Time in seconds\")\n",
        "plt.title('Time needed for Apriori algorithm')\n",
        "\n",
        "leg = plt.legend()\n",
        "\n",
        "plt.savefig('image.pdf')\n",
        "\n",
        "plt.show()\n"
      ],
      "execution_count": null,
      "outputs": [
        {
          "output_type": "display_data",
          "data": {
            "image/png": "[encoded data removed]",
            "text/plain": [
              "<Figure size 432x288 with 1 Axes>"
            ]
          },
          "metadata": {
            "tags": [],
            "needs_background": "light"
          }
        }
      ]
    },
    {
      "cell_type": "markdown",
      "metadata": {
        "id": "uaixeLMpJYEu"
      },
      "source": [
        "Plot the difference of the runtime for both algorithms with different support values\n"
      ]
    },
    {
      "cell_type": "code",
      "metadata": {
        "id": "MRD2IRPWuS94",
        "colab": {
          "base_uri": "https://localhost:8080/",
          "height": 295
        },
        "outputId": "85b9a7b3-6932-4746-85a1-4f5d1f9ea652"
      },
      "source": [
        "#get graph for time (seconds) running both algorithm for different support values\n",
        "\n",
        "%matplotlib inline\n",
        "x =[0.0002, 0.0003, 0.0004,0.0005, 0.0006, 0.0008, 0.001]\n",
        "y = [5139.251349925995,2022.997619152069,733.544305562973,367.53301644325256,185.84784150123596,51.371659994125366,17.269320249557495]\n",
        "plt.plot(x, y, label=\"Apriori Algorithm\")\n",
        "\n",
        "x1=[0.0002, 0.0003, 0.0004,0.0005, 0.0006, 0.0008, 0.001]\n",
        "y1=[104.76757955551147,112.26622992477417,111.86981964111328,111.74520134925842,111.484503077698,110.27831411361694,111.74520134925842]\n",
        "plt.plot(x1, y1, label=\"Fp-Growth Algorithm\")\n",
        "\n",
        "plt.xlabel(\"Support size\")\n",
        "plt.ylabel(\"Time in seconds\")\n",
        "plt.title('Apriori vs Fp-Growth algorithm')\n",
        "\n",
        "leg = plt.legend()\n",
        "\n",
        "plt.savefig('image.pdf')\n",
        "\n",
        "plt.show()"
      ],
      "execution_count": null,
      "outputs": [
        {
          "output_type": "display_data",
          "data": {
            "image/png": "[encoded data removed]",
            "text/plain": [
              "<Figure size 432x288 with 1 Axes>"
            ]
          },
          "metadata": {
            "tags": [],
            "needs_background": "light"
          }
        }
      ]
    }
  ]
}